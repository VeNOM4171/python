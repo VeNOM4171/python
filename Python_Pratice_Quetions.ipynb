{
 "cells": [
  {
   "cell_type": "markdown",
   "metadata": {},
   "source": [
    "# Pratical-1\n",
    "Write   a   Python   program   to   get   a   list,   sorted   in increasing order by the last element in each tuple from a given list of non-empty tuples. Go to the editor\n",
    "Sample List : [(2, 5), (1, 2), (4, 4), (2, 3), (2, 1)]\n",
    "Expected Result : [(2, 1), (1, 2), (2, 3), (4, 4), (2, 5)]"
   ]
  },
  {
   "cell_type": "code",
   "execution_count": 2,
   "metadata": {},
   "outputs": [
    {
     "name": "stdout",
     "output_type": "stream",
     "text": [
      "[(2, 1), (1, 2), (2, 3), (4, 4), (2, 5)]\n"
     ]
    }
   ],
   "source": [
    "def Sort_Tuple(tup):  \n",
    "    tup.sort(key = lambda x: x[1])  \n",
    "    return tup  \n",
    "t1 = [(2, 5), (1, 2), (4, 4), (2, 3), (2, 1)]  \n",
    "  \n",
    "print(Sort_Tuple(t1))  "
   ]
  },
  {
   "cell_type": "markdown",
   "metadata": {},
   "source": [
    "# Practical-2\n",
    "Write a Python script to \n",
    "1)sort  (ascending  and  descending)  a  dictionary by value.\n",
    "2)to remove duplicates from Dictionary"
   ]
  },
  {
   "cell_type": "code",
   "execution_count": 8,
   "metadata": {},
   "outputs": [
    {
     "name": "stdout",
     "output_type": "stream",
     "text": [
      "Dictionary Before Sorting:  {'key1': 30, 'key2': 14, 'key3': 14, 'key4': 1, 'key5': 10}\n",
      "Dictionary After Sorting in ascending order by value is:  {'key4': 1, 'key5': 10, 'key2': 14, 'key3': 14, 'key1': 30}\n",
      "Dictionary After Sorting in descending order by value is:  {'key1': 30, 'key2': 14, 'key3': 14, 'key5': 10, 'key4': 1}\n",
      "The dictionary after values removal : {'key1': 30, 'key2': 14, 'key4': 1, 'key5': 10}\n"
     ]
    }
   ],
   "source": [
    "import operator\n",
    "dict1 = {'key1': 30, 'key2': 14, 'key3': 14, 'key4': 1, 'key5': 10}\n",
    "temp = [] \n",
    "distinct_dict = dict() \n",
    "print('Dictionary Before Sorting: ',dict1)\n",
    "sortAsc = dict(sorted(dict1.items(), key=operator.itemgetter(1)))\n",
    "sortDes = dict( sorted(dict1.items(), key=operator.itemgetter(1),reverse=True))\n",
    "print('Dictionary After Sorting in ascending order by value is: ',sortAsc)\n",
    "print('Dictionary After Sorting in descending order by value is: ',sortDes)\n",
    "for key, val in dict1.items(): \n",
    "    if val not in temp: \n",
    "        temp.append(val) \n",
    "        distinct_dict[key] = val \n",
    "print(\"The dictionary after values removal : \" + str(distinct_dict))"
   ]
  },
  {
   "cell_type": "markdown",
   "metadata": {},
   "source": [
    "# Pratical-3\n",
    "Write a Python program 1)to convert a tuple to a string.2)to convert a tuple toa dictionary."
   ]
  },
  {
   "cell_type": "code",
   "execution_count": 10,
   "metadata": {},
   "outputs": [
    {
     "name": "stdout",
     "output_type": "stream",
     "text": [
      "Converted String Is: \n",
      " SUDIP\n",
      "Converted Dictionary Is: \n",
      " {'name': 'sudip', 'enroll': 17}\n"
     ]
    }
   ],
   "source": [
    "import functools\n",
    "import operator\n",
    "\n",
    "def convertToString(tup):\n",
    "    return functools.reduce(operator.add, (tup))\n",
    "def convertToDict(tup):\n",
    "    return dict((x, y) for x, y in tup)\n",
    "\n",
    "t1 = ('S', 'U', 'D', 'I', 'P')\n",
    "t2 = (('name', 'sudip'), ('enroll', 17))\n",
    "str = convertToString(t1)\n",
    "dict1 = convertToDict(t2)\n",
    "print(\"Converted String Is: \\n\", str)\n",
    "print(\"Converted Dictionary Is: \\n\", dict1)"
   ]
  },
  {
   "cell_type": "markdown",
   "metadata": {},
   "source": [
    "# Practical-4\n",
    "Write a Pandas program 1)to select the specified columns and rows from a given data frame2)to drop a list of rows from a    specified DataFrame"
   ]
  },
  {
   "cell_type": "code",
   "execution_count": 14,
   "metadata": {},
   "outputs": [
    {
     "data": {
      "text/html": [
       "<div>\n",
       "<style scoped>\n",
       "    .dataframe tbody tr th:only-of-type {\n",
       "        vertical-align: middle;\n",
       "    }\n",
       "\n",
       "    .dataframe tbody tr th {\n",
       "        vertical-align: top;\n",
       "    }\n",
       "\n",
       "    .dataframe thead th {\n",
       "        text-align: right;\n",
       "    }\n",
       "</style>\n",
       "<table border=\"1\" class=\"dataframe\">\n",
       "  <thead>\n",
       "    <tr style=\"text-align: right;\">\n",
       "      <th></th>\n",
       "      <th>Roll</th>\n",
       "      <th>Name</th>\n",
       "      <th>Marks</th>\n",
       "    </tr>\n",
       "  </thead>\n",
       "  <tbody>\n",
       "    <tr>\n",
       "      <th>0</th>\n",
       "      <td>17</td>\n",
       "      <td>sudip</td>\n",
       "      <td>84</td>\n",
       "    </tr>\n",
       "    <tr>\n",
       "      <th>1</th>\n",
       "      <td>20</td>\n",
       "      <td>raj</td>\n",
       "      <td>94</td>\n",
       "    </tr>\n",
       "    <tr>\n",
       "      <th>2</th>\n",
       "      <td>26</td>\n",
       "      <td>jay</td>\n",
       "      <td>89</td>\n",
       "    </tr>\n",
       "    <tr>\n",
       "      <th>3</th>\n",
       "      <td>22</td>\n",
       "      <td>bhavyesh</td>\n",
       "      <td>83</td>\n",
       "    </tr>\n",
       "    <tr>\n",
       "      <th>4</th>\n",
       "      <td>23</td>\n",
       "      <td>preet</td>\n",
       "      <td>86</td>\n",
       "    </tr>\n",
       "    <tr>\n",
       "      <th>5</th>\n",
       "      <td>28</td>\n",
       "      <td>ayush</td>\n",
       "      <td>80</td>\n",
       "    </tr>\n",
       "  </tbody>\n",
       "</table>\n",
       "</div>"
      ],
      "text/plain": [
       "   Roll      Name  Marks\n",
       "0    17     sudip     84\n",
       "1    20       raj     94\n",
       "2    26       jay     89\n",
       "3    22  bhavyesh     83\n",
       "4    23     preet     86\n",
       "5    28     ayush     80"
      ]
     },
     "execution_count": 14,
     "metadata": {},
     "output_type": "execute_result"
    }
   ],
   "source": [
    "import pandas as pd\n",
    "sample_data = pd.DataFrame({'Roll':[17,20,26,22,23,28], 'Name':['sudip','raj','jay','bhavyesh','preet','ayush'], 'Marks':[84,94,89,83,86,80]})\n",
    "sample_data\n"
   ]
  },
  {
   "cell_type": "code",
   "execution_count": 24,
   "metadata": {},
   "outputs": [
    {
     "data": {
      "text/html": [
       "<div>\n",
       "<style scoped>\n",
       "    .dataframe tbody tr th:only-of-type {\n",
       "        vertical-align: middle;\n",
       "    }\n",
       "\n",
       "    .dataframe tbody tr th {\n",
       "        vertical-align: top;\n",
       "    }\n",
       "\n",
       "    .dataframe thead th {\n",
       "        text-align: right;\n",
       "    }\n",
       "</style>\n",
       "<table border=\"1\" class=\"dataframe\">\n",
       "  <thead>\n",
       "    <tr style=\"text-align: right;\">\n",
       "      <th></th>\n",
       "      <th>Name</th>\n",
       "      <th>Marks</th>\n",
       "    </tr>\n",
       "  </thead>\n",
       "  <tbody>\n",
       "    <tr>\n",
       "      <th>2</th>\n",
       "      <td>jay</td>\n",
       "      <td>89</td>\n",
       "    </tr>\n",
       "    <tr>\n",
       "      <th>3</th>\n",
       "      <td>bhavyesh</td>\n",
       "      <td>83</td>\n",
       "    </tr>\n",
       "  </tbody>\n",
       "</table>\n",
       "</div>"
      ],
      "text/plain": [
       "       Name  Marks\n",
       "2       jay     89\n",
       "3  bhavyesh     83"
      ]
     },
     "execution_count": 24,
     "metadata": {},
     "output_type": "execute_result"
    }
   ],
   "source": [
    "sample_data[sample_data.columns[1:3]].iloc[2:4]"
   ]
  },
  {
   "cell_type": "code",
   "execution_count": 20,
   "metadata": {},
   "outputs": [
    {
     "data": {
      "text/html": [
       "<div>\n",
       "<style scoped>\n",
       "    .dataframe tbody tr th:only-of-type {\n",
       "        vertical-align: middle;\n",
       "    }\n",
       "\n",
       "    .dataframe tbody tr th {\n",
       "        vertical-align: top;\n",
       "    }\n",
       "\n",
       "    .dataframe thead th {\n",
       "        text-align: right;\n",
       "    }\n",
       "</style>\n",
       "<table border=\"1\" class=\"dataframe\">\n",
       "  <thead>\n",
       "    <tr style=\"text-align: right;\">\n",
       "      <th></th>\n",
       "      <th>Roll</th>\n",
       "      <th>Name</th>\n",
       "      <th>Marks</th>\n",
       "    </tr>\n",
       "  </thead>\n",
       "  <tbody>\n",
       "    <tr>\n",
       "      <th>0</th>\n",
       "      <td>17</td>\n",
       "      <td>sudip</td>\n",
       "      <td>84</td>\n",
       "    </tr>\n",
       "    <tr>\n",
       "      <th>2</th>\n",
       "      <td>26</td>\n",
       "      <td>jay</td>\n",
       "      <td>89</td>\n",
       "    </tr>\n",
       "    <tr>\n",
       "      <th>3</th>\n",
       "      <td>22</td>\n",
       "      <td>bhavyesh</td>\n",
       "      <td>83</td>\n",
       "    </tr>\n",
       "    <tr>\n",
       "      <th>4</th>\n",
       "      <td>23</td>\n",
       "      <td>preet</td>\n",
       "      <td>86</td>\n",
       "    </tr>\n",
       "    <tr>\n",
       "      <th>5</th>\n",
       "      <td>28</td>\n",
       "      <td>ayush</td>\n",
       "      <td>80</td>\n",
       "    </tr>\n",
       "  </tbody>\n",
       "</table>\n",
       "</div>"
      ],
      "text/plain": [
       "   Roll      Name  Marks\n",
       "0    17     sudip     84\n",
       "2    26       jay     89\n",
       "3    22  bhavyesh     83\n",
       "4    23     preet     86\n",
       "5    28     ayush     80"
      ]
     },
     "execution_count": 20,
     "metadata": {},
     "output_type": "execute_result"
    }
   ],
   "source": [
    "sample_data.drop(sample_data.index[1])"
   ]
  },
  {
   "cell_type": "markdown",
   "metadata": {},
   "source": [
    "# Pratical-5\n",
    "Write a Pandas program to find the row for where the value of a given column is maximum"
   ]
  },
  {
   "cell_type": "code",
   "execution_count": 31,
   "metadata": {},
   "outputs": [
    {
     "name": "stdout",
     "output_type": "stream",
     "text": [
      "   Roll      Name  Marks\n",
      "0    17     sudip     84\n",
      "1    20       raj     94\n",
      "2    26       jay     89\n",
      "3    22  bhavyesh     83\n",
      "4    23     preet     86\n",
      "5    28     ayush     80\n",
      "\n",
      "Row where column(Marks) has maximum value is:\n",
      "\n",
      "Roll      20\n",
      "Name     raj\n",
      "Marks     94\n",
      "Name: 1, dtype: object\n"
     ]
    }
   ],
   "source": [
    "print(sample_data)\n",
    "print(\"\\nRow where column(Marks) has maximum value is:\\n\")\n",
    "print(sample_data.loc[sample_data['Marks'].argmax()])"
   ]
  }
 ],
 "metadata": {
  "kernelspec": {
   "display_name": "Python 3",
   "language": "python",
   "name": "python3"
  },
  "language_info": {
   "codemirror_mode": {
    "name": "ipython",
    "version": 3
   },
   "file_extension": ".py",
   "mimetype": "text/x-python",
   "name": "python",
   "nbconvert_exporter": "python",
   "pygments_lexer": "ipython3",
   "version": "3.7.6"
  }
 },
 "nbformat": 4,
 "nbformat_minor": 4
}
