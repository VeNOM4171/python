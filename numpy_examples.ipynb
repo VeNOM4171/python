{
 "cells": [
  {
   "cell_type": "markdown",
   "metadata": {},
   "source": [
    "# NumPy\n",
    "\n",
    "numpy is python's package for doing math that is more advanced than +-*/\n",
    "\n",
    "This includes special functions like cosine, exponential, sqrt, ...\n",
    "\n",
    "On top of this we can use numpy to generate samples from many types of random variables\n",
    "\n",
    "numpy also has a powerful data type to define vectors, matrices, and tensors\n",
    "\n",
    "With these data types numpy also allows us to do linear algebra - matrix multiplication and matrix-vector solutions"
   ]
  },
  {
   "cell_type": "code",
   "execution_count": 1,
   "metadata": {},
   "outputs": [],
   "source": [
    "# the first step of using numpy is to tell python to use it\n",
    "import numpy as np"
   ]
  },
  {
   "cell_type": "code",
   "execution_count": 2,
   "metadata": {},
   "outputs": [
    {
     "name": "stdout",
     "output_type": "stream",
     "text": [
      "-1.0\n",
      "1.1\n",
      "5.2\n"
     ]
    }
   ],
   "source": [
    "print(np.cos(np.pi))\n",
    "print(np.sqrt(1.21))\n",
    "print(np.log(np.exp(5.2)))"
   ]
  },
  {
   "cell_type": "code",
   "execution_count": 4,
   "metadata": {},
   "outputs": [
    {
     "name": "stdout",
     "output_type": "stream",
     "text": [
      "[1 2 3]\n",
      "\n",
      "\n",
      "[[1 2 1]\n",
      " [4 5 9]\n",
      " [1 8 9]]\n",
      "\n",
      "\n",
      "[[1 4 1]\n",
      " [2 5 8]\n",
      " [1 9 9]]\n"
     ]
    }
   ],
   "source": [
    "# we can create numpy arrays by converting lists\n",
    "# this is a vector\n",
    "vec = np.array([1,2,3])\n",
    "print(vec)\n",
    "# we can create matrices by converting lists of lists\n",
    "mat = np.array([[1,2,1],[4,5,9],[1,8,9]])\n",
    "print('\\n')\n",
    "print(mat)\n",
    "print('\\n')\n",
    "#will output transpose of matrix\n",
    "print(mat.T)"
   ]
  },
  {
   "cell_type": "code",
   "execution_count": 5,
   "metadata": {},
   "outputs": [
    {
     "name": "stdout",
     "output_type": "stream",
     "text": [
      "[ 0  1  2  3  4  5  6  7  8  9 10 11 12 13 14]\n",
      "\n",
      "\n",
      "[ 3  9 15]\n"
     ]
    }
   ],
   "source": [
    "# there are lots of other ways to create numpy arrays\n",
    "\n",
    "vec2 = np.arange(0,15)\n",
    "#return an array with element [0,1,2....,14]\n",
    "print(vec2)\n",
    "print('\\n')\n",
    "#return an array with element from 3-20 such that step-size is 6\n",
    "vec3 = np.arange(3,21,6)\n",
    "print(vec3)\n"
   ]
  },
  {
   "cell_type": "code",
   "execution_count": 6,
   "metadata": {},
   "outputs": [
    {
     "name": "stdout",
     "output_type": "stream",
     "text": [
      "[0.         0.55555556 1.11111111 1.66666667 2.22222222 2.77777778\n",
      " 3.33333333 3.88888889 4.44444444 5.        ]\n",
      "\n",
      "[[0.         0.55555556]\n",
      " [1.11111111 1.66666667]\n",
      " [2.22222222 2.77777778]\n",
      " [3.33333333 3.88888889]\n",
      " [4.44444444 5.        ]]\n"
     ]
    }
   ],
   "source": [
    "#linearSpacing- starting & ending point both are inclusive\n",
    "#return an array with 10 element with linear spacing \n",
    "vec4 = np.linspace(0,5,10)\n",
    "print(vec4)\n",
    "print('')\n",
    "# reshape converts numpy array into matrix with given dimension if possible.\n",
    "print(vec4.reshape(5,2))\n"
   ]
  },
  {
   "cell_type": "code",
   "execution_count": 7,
   "metadata": {},
   "outputs": [
    {
     "name": "stdout",
     "output_type": "stream",
     "text": [
      "[[0. 0. 0.]\n",
      " [0. 0. 0.]\n",
      " [0. 0. 0.]\n",
      " [0. 0. 0.]\n",
      " [0. 0. 0.]]\n",
      "\n",
      "[[1. 1. 1. 1. 1.]\n",
      " [1. 1. 1. 1. 1.]\n",
      " [1. 1. 1. 1. 1.]]\n",
      "\n",
      "[[1. 0. 0. 0. 0.]\n",
      " [0. 1. 0. 0. 0.]\n",
      " [0. 0. 1. 0. 0.]\n",
      " [0. 0. 0. 1. 0.]\n",
      " [0. 0. 0. 0. 1.]]\n"
     ]
    }
   ],
   "source": [
    "#return null matrix\n",
    "mat2 = np.zeros([5,3])\n",
    "print(mat2)\n",
    "#return binary matrix with value 1\n",
    "mat3 = np.ones((3,5))\n",
    "print('')\n",
    "print(mat3)\n",
    "#return identity matrix\n",
    "mat4 = np.eye(5)\n",
    "print('')\n",
    "print(mat4)"
   ]
  },
  {
   "cell_type": "code",
   "execution_count": 12,
   "metadata": {},
   "outputs": [
    {
     "name": "stdout",
     "output_type": "stream",
     "text": [
      "[1 2 3 4 5]\n",
      "\n",
      "\n",
      "[3 4 5 6 7]\n",
      "\n",
      "add\n",
      "[ 4  6  8 10 12]\n",
      "\n",
      "multiply\n",
      "[ 3  8 15 24 35]\n",
      "\n",
      "division\n",
      "[1.         0.5        0.33333333 0.25       0.2       ]\n",
      "\n",
      "sqaure\n",
      "[1.73205081 2.         2.23606798 2.44948974 2.64575131]\n"
     ]
    }
   ],
   "source": [
    "# we can +-*/ arrays together if they're the right size\n",
    "vec5 = np.arange(1,6)\n",
    "vec6 = np.arange(3,8)\n",
    "print(vec5)\n",
    "print(\"\\n\")\n",
    "print(vec6)\n",
    "print(\"\\nadd\")\n",
    "print(vec5+vec6)\n",
    "print(\"\\nmultiply\")\n",
    "print(vec5*vec6)\n",
    "print(\"\\ndivision\")\n",
    "print(1/vec5)\n",
    "print(\"\\nsqaure\")\n",
    "print(np.sqrt(vec6))"
   ]
  },
  {
   "cell_type": "code",
   "execution_count": 13,
   "metadata": {},
   "outputs": [
    {
     "name": "stdout",
     "output_type": "stream",
     "text": [
      "[[1 2 1]\n",
      " [4 5 9]\n",
      " [1 8 9]]\n",
      "\n",
      "[1 2 3]\n",
      "\n",
      "[ 8 41 44]\n"
     ]
    }
   ],
   "source": [
    "# we can do matrix multiplication\n",
    "#mat-(3x3), vec-(1x3), product-(1x3)\n",
    "print(mat)\n",
    "print('')\n",
    "print(vec)\n",
    "print()\n",
    "product = np.matmul(mat,vec)\n",
    "print(product)"
   ]
  },
  {
   "cell_type": "code",
   "execution_count": 14,
   "metadata": {},
   "outputs": [
    {
     "name": "stdout",
     "output_type": "stream",
     "text": [
      "[1. 2. 3.]\n",
      "\n",
      "[[ 0.5         0.18518519 -0.24074074]\n",
      " [ 0.5        -0.14814815  0.09259259]\n",
      " [-0.5         0.11111111  0.05555556]]\n"
     ]
    }
   ],
   "source": [
    "print(np.linalg.solve(mat,product))\n",
    "print('')\n",
    "print(np.linalg.inv(mat))"
   ]
  },
  {
   "cell_type": "code",
   "execution_count": 15,
   "metadata": {},
   "outputs": [
    {
     "name": "stdout",
     "output_type": "stream",
     "text": [
      "['blue' 'red' 'orange' 'purple' 'purple' 'orange' 'Red' '6']\n",
      "['6' 'Red' 'blue' 'orange' 'purple' 'red']\n"
     ]
    }
   ],
   "source": [
    "# we can find the unique values in an array\n",
    "vec7 = np.array(['blue','red','orange','purple','purple','orange','Red',6])\n",
    "print(vec7)\n",
    "print(np.unique(vec7))"
   ]
  },
  {
   "cell_type": "code",
   "execution_count": 16,
   "metadata": {},
   "outputs": [
    {
     "name": "stdout",
     "output_type": "stream",
     "text": [
      "[[0.43251929 0.57895795 0.97791691 0.78655819 0.97592813]\n",
      " [0.37648637 0.34895245 0.0512747  0.68864111 0.00317934]\n",
      " [0.74259482 0.05788989 0.92457358 0.52683781 0.72380963]\n",
      " [0.28734983 0.6855835  0.33042035 0.73087088 0.97441362]\n",
      " [0.02802572 0.99080746 0.81764804 0.54283052 0.69918734]]\n",
      "\n",
      "[[ 1.08145502 -0.04120035 -0.71330422 -0.06322746  0.09638091]\n",
      " [ 0.95999594  0.13988062  0.75937323 -0.11091415 -0.22802149]\n",
      " [ 0.27258353 -0.88074028 -0.25645753 -0.2716021   1.25754768]\n",
      " [ 1.46513452  0.65626977  0.8136515   0.52271727 -1.94648603]\n",
      " [ 0.65676813  0.84661832 -2.00775197  0.67435606 -2.0392843 ]\n",
      " [ 0.11575395  0.22180195 -1.28127297 -0.58461632 -0.24586906]\n",
      " [-0.78358108  1.26128394 -0.3004069  -0.33186061  0.92727138]\n",
      " [ 0.7260532   1.63603493 -1.1423577   1.19800481 -0.78869097]\n",
      " [ 0.0024496   0.65863138 -0.39142134  0.03510833  1.53086553]\n",
      " [-1.69139479  0.79557397 -0.85382956 -0.76593603  0.30710823]]\n"
     ]
    }
   ],
   "source": [
    "# we can also use numpy to generate samples of a random variable\n",
    "rand_mat = np.random.rand(5,5) # uniform random variable\n",
    "print(rand_mat)\n",
    "rand_mat2 = np.random.randn(10,5) # standard normal random variable\n",
    "print('')\n",
    "print(rand_mat2)"
   ]
  },
  {
   "cell_type": "code",
   "execution_count": 17,
   "metadata": {},
   "outputs": [
    {
     "name": "stdout",
     "output_type": "stream",
     "text": [
      "0.5713302982152172\n",
      "0.9234866615784076\n"
     ]
    }
   ],
   "source": [
    "# we can also use numpy for statistical tools on arrays\n",
    "print(np.mean(rand_mat))\n",
    "print(np.std(rand_mat2))"
   ]
  },
  {
   "cell_type": "code",
   "execution_count": 18,
   "metadata": {},
   "outputs": [
    {
     "name": "stdout",
     "output_type": "stream",
     "text": [
      "0.003179343699820203\n",
      "1.6360349280878768\n"
     ]
    }
   ],
   "source": [
    "print(np.min(rand_mat))\n",
    "print(np.max(rand_mat2))"
   ]
  },
  {
   "cell_type": "code",
   "execution_count": 19,
   "metadata": {},
   "outputs": [
    {
     "name": "stdout",
     "output_type": "stream",
     "text": [
      "[-0.6440749  -0.94885542  0.67832058 -0.86140167 -0.15998787  0.30774666\n",
      " -1.01511225 -1.77844053  1.023705    0.87621284 -0.41873629  2.27065538\n",
      " -0.52327846 -1.54474734  0.00827068 -1.53760191  0.00429064 -1.38885012\n",
      " -0.52725521]\n",
      "-1.0151122543497373\n"
     ]
    }
   ],
   "source": [
    "# how do we access entries in a numpy vector\n",
    "rand_vec = np.random.randn(19)\n",
    "print(rand_vec)\n",
    "print(rand_vec[6])"
   ]
  },
  {
   "cell_type": "code",
   "execution_count": 20,
   "metadata": {},
   "outputs": [
    {
     "name": "stdout",
     "output_type": "stream",
     "text": [
      "[-0.15998787  0.30774666 -1.01511225 -1.77844053  1.023705  ]\n"
     ]
    }
   ],
   "source": [
    "# we can access multiple entries at once using :\n",
    "print(rand_vec[4:9])"
   ]
  },
  {
   "cell_type": "code",
   "execution_count": 21,
   "metadata": {},
   "outputs": [
    {
     "name": "stdout",
     "output_type": "stream",
     "text": [
      "[ 0  3  6  9 12]\n",
      "[-0.6440749  -0.86140167 -1.01511225  0.87621284 -0.52327846]\n"
     ]
    }
   ],
   "source": [
    "# we can also access multiple non-consecutive entries using np.arange\n",
    "print(np.arange(0,15,3))\n",
    "#we are using above result to access the index of vector. \n",
    "print(rand_vec[np.arange(0,15,3)])"
   ]
  },
  {
   "cell_type": "code",
   "execution_count": 22,
   "metadata": {},
   "outputs": [
    {
     "name": "stdout",
     "output_type": "stream",
     "text": [
      "[[0.43251929 0.57895795 0.97791691 0.78655819 0.97592813]\n",
      " [0.37648637 0.34895245 0.0512747  0.68864111 0.00317934]\n",
      " [0.74259482 0.05788989 0.92457358 0.52683781 0.72380963]\n",
      " [0.28734983 0.6855835  0.33042035 0.73087088 0.97441362]\n",
      " [0.02802572 0.99080746 0.81764804 0.54283052 0.69918734]]\n",
      "0.05127470447269833\n",
      "0.05127470447269833\n"
     ]
    }
   ],
   "source": [
    "# what about matrices\n",
    "print(rand_mat)\n",
    "print(rand_mat[1][2])\n",
    "print(rand_mat[1,2])\n"
   ]
  },
  {
   "cell_type": "code",
   "execution_count": 23,
   "metadata": {},
   "outputs": [
    {
     "name": "stdout",
     "output_type": "stream",
     "text": [
      "[[0.57895795 0.97791691]\n",
      " [0.34895245 0.0512747 ]]\n"
     ]
    }
   ],
   "source": [
    "print(rand_mat[0:2,1:3])"
   ]
  },
  {
   "cell_type": "code",
   "execution_count": 24,
   "metadata": {},
   "outputs": [
    {
     "name": "stdout",
     "output_type": "stream",
     "text": [
      "[-0.6440749  -0.94885542  0.67832058 -0.86140167 -0.15998787  0.30774666\n",
      " -1.01511225 -1.77844053  1.023705    0.87621284 -0.41873629  2.27065538\n",
      " -0.52327846 -1.54474734  0.00827068 -1.53760191  0.00429064 -1.38885012\n",
      " -0.52725521]\n",
      "\n",
      "[-0.6440749  -0.94885542  0.67832058  4.          4.          0.30774666\n",
      " -1.01511225 -1.77844053  1.023705    0.87621284 -0.41873629  2.27065538\n",
      " -0.52327846 -1.54474734  0.00827068 -1.53760191  0.00429064 -1.38885012\n",
      " -0.52725521]\n",
      "\n",
      "[-0.6440749  -0.94885542  0.67832058  1.          2.          0.30774666\n",
      " -1.01511225 -1.77844053  1.023705    0.87621284 -0.41873629  2.27065538\n",
      " -0.52327846 -1.54474734  0.00827068 -1.53760191  0.00429064 -1.38885012\n",
      " -0.52725521]\n"
     ]
    }
   ],
   "source": [
    "# let's change some values in an array!\n",
    "print(rand_vec)\n",
    "rand_vec[3:5] = 4\n",
    "print('')\n",
    "print(rand_vec)\n",
    "rand_vec[3:5] = [1,2]\n",
    "print('')\n",
    "print(rand_vec)"
   ]
  },
  {
   "cell_type": "code",
   "execution_count": 25,
   "metadata": {},
   "outputs": [
    {
     "name": "stdout",
     "output_type": "stream",
     "text": [
      "[[0.43251929 0.57895795 0.97791691 0.78655819 0.97592813]\n",
      " [0.37648637 0.34895245 0.0512747  0.68864111 0.00317934]\n",
      " [0.74259482 0.05788989 0.92457358 0.52683781 0.72380963]\n",
      " [0.28734983 0.6855835  0.33042035 0.73087088 0.97441362]\n",
      " [0.02802572 0.99080746 0.81764804 0.54283052 0.69918734]]\n",
      "\n",
      "[[0.43251929 0.57895795 0.97791691 0.78655819 0.97592813]\n",
      " [0.37648637 0.34895245 0.0512747  0.         0.        ]\n",
      " [0.74259482 0.05788989 0.92457358 0.         0.        ]\n",
      " [0.28734983 0.6855835  0.33042035 0.73087088 0.97441362]\n",
      " [0.02802572 0.99080746 0.81764804 0.54283052 0.69918734]]\n"
     ]
    }
   ],
   "source": [
    "print(rand_mat)\n",
    "rand_mat[1:3,3:5] = 0\n",
    "print('')\n",
    "print(rand_mat)"
   ]
  },
  {
   "cell_type": "code",
   "execution_count": 26,
   "metadata": {},
   "outputs": [
    {
     "name": "stdout",
     "output_type": "stream",
     "text": [
      "[[0.43251929 0.57895795 0.97791691]\n",
      " [0.37648637 0.34895245 0.0512747 ]]\n",
      "[[3. 3. 3.]\n",
      " [3. 3. 3.]]\n"
     ]
    }
   ],
   "source": [
    "sub_mat = rand_mat[0:2,0:3]\n",
    "print(sub_mat)\n",
    "#it replace all elements of matrix with 3\n",
    "sub_mat[:] = 3\n",
    "print(sub_mat)\n"
   ]
  },
  {
   "cell_type": "code",
   "execution_count": 27,
   "metadata": {},
   "outputs": [
    {
     "name": "stdout",
     "output_type": "stream",
     "text": [
      "[[3.         3.         3.         0.78655819 0.97592813]\n",
      " [3.         3.         3.         0.         0.        ]\n",
      " [0.74259482 0.05788989 0.92457358 0.         0.        ]\n",
      " [0.28734983 0.6855835  0.33042035 0.73087088 0.97441362]\n",
      " [0.02802572 0.99080746 0.81764804 0.54283052 0.69918734]]\n"
     ]
    }
   ],
   "source": [
    "print(rand_mat)"
   ]
  },
  {
   "cell_type": "code",
   "execution_count": 28,
   "metadata": {},
   "outputs": [
    {
     "name": "stdout",
     "output_type": "stream",
     "text": [
      "[[99. 99. 99.]\n",
      " [99. 99. 99.]]\n",
      "[[3.         3.         3.         0.78655819 0.97592813]\n",
      " [3.         3.         3.         0.         0.        ]\n",
      " [0.74259482 0.05788989 0.92457358 0.         0.        ]\n",
      " [0.28734983 0.6855835  0.33042035 0.73087088 0.97441362]\n",
      " [0.02802572 0.99080746 0.81764804 0.54283052 0.69918734]]\n"
     ]
    }
   ],
   "source": [
    "#it is copy of original so there is no effect on original \n",
    "sub_mat2 = rand_mat[0:2,0:3].copy()\n",
    "sub_mat2[:] = 99\n",
    "print(sub_mat2)\n",
    "print(rand_mat)\n"
   ]
  },
  {
   "cell_type": "code",
   "execution_count": 29,
   "metadata": {},
   "outputs": [
    {
     "name": "stdout",
     "output_type": "stream",
     "text": [
      "[ 1.00169932  0.61121834 -1.0730647   1.75378193 -0.93443493  0.10139968\n",
      "  1.03306456  0.10016543  1.57134835 -0.64351712 -1.21402483 -0.14133609\n",
      " -0.53255582 -1.62867619 -0.89382465]\n",
      "[ True  True False  True False  True  True  True  True False False False\n",
      " False False False]\n",
      "[1.00169932 0.61121834 1.75378193 0.10139968 1.03306456 0.10016543\n",
      " 1.57134835]\n"
     ]
    }
   ],
   "source": [
    "# we can also access entries with logicals\n",
    "rand_vec = np.random.randn(15)\n",
    "\n",
    "print(rand_vec)\n",
    "print(rand_vec>0)\n",
    "#it will return only those element which return true for above statement\n",
    "print(rand_vec[rand_vec>0])"
   ]
  },
  {
   "cell_type": "code",
   "execution_count": 30,
   "metadata": {},
   "outputs": [
    {
     "name": "stdout",
     "output_type": "stream",
     "text": [
      "[[ 1.08145502 -0.04120035 -0.71330422 -0.06322746  0.09638091]\n",
      " [ 0.95999594  0.13988062  0.75937323 -0.11091415 -0.22802149]\n",
      " [ 0.27258353 -0.88074028 -0.25645753 -0.2716021   1.25754768]\n",
      " [ 1.46513452  0.65626977  0.8136515   0.52271727 -1.94648603]\n",
      " [ 0.65676813  0.84661832 -2.00775197  0.67435606 -2.0392843 ]\n",
      " [ 0.11575395  0.22180195 -1.28127297 -0.58461632 -0.24586906]\n",
      " [-0.78358108  1.26128394 -0.3004069  -0.33186061  0.92727138]\n",
      " [ 0.7260532   1.63603493 -1.1423577   1.19800481 -0.78869097]\n",
      " [ 0.0024496   0.65863138 -0.39142134  0.03510833  1.53086553]\n",
      " [-1.69139479  0.79557397 -0.85382956 -0.76593603  0.30710823]]\n",
      "array with all positive value:\n",
      "[1.08145502 0.09638091 0.95999594 0.13988062 0.75937323 0.27258353\n",
      " 1.25754768 1.46513452 0.65626977 0.8136515  0.52271727 0.65676813\n",
      " 0.84661832 0.67435606 0.11575395 0.22180195 1.26128394 0.92727138\n",
      " 0.7260532  1.63603493 1.19800481 0.0024496  0.65863138 0.03510833\n",
      " 1.53086553 0.79557397 0.30710823]\n"
     ]
    }
   ],
   "source": [
    "print(rand_mat2)\n",
    "print(\"array with all positive value:\")\n",
    "print(rand_mat2[rand_mat2>0])"
   ]
  },
  {
   "cell_type": "code",
   "execution_count": 31,
   "metadata": {},
   "outputs": [
    {
     "name": "stdout",
     "output_type": "stream",
     "text": [
      "[ 1.00169932  0.61121834 -1.0730647   1.75378193 -0.93443493  0.10139968\n",
      "  1.03306456  0.10016543  1.57134835 -0.64351712 -1.21402483 -0.14133609\n",
      " -0.53255582 -1.62867619 -0.89382465]\n",
      "\n",
      "[-5.         -5.         -1.0730647  -5.         -0.93443493  0.10139968\n",
      " -5.          0.10016543 -5.         -0.64351712 -1.21402483 -0.14133609\n",
      " -0.53255582 -1.62867619 -0.89382465]\n"
     ]
    }
   ],
   "source": [
    "\n",
    "print(rand_vec)\n",
    "print('')\n",
    "rand_vec[rand_vec>0.5] = -5\n",
    "print(rand_vec)"
   ]
  },
  {
   "cell_type": "code",
   "execution_count": 32,
   "metadata": {},
   "outputs": [],
   "source": [
    "# let's save some arrays on the disk for use later!\n",
    "np.save('saved_file_name',rand_mat2)\n"
   ]
  },
  {
   "cell_type": "code",
   "execution_count": 33,
   "metadata": {},
   "outputs": [],
   "source": [
    "#it will save the matrix on system as file name'zipped_file_name.npz'\n",
    "np.savez('zipped_file_name',rand_mat=rand_mat,rand_mat2=rand_mat2)"
   ]
  },
  {
   "cell_type": "code",
   "execution_count": 34,
   "metadata": {},
   "outputs": [
    {
     "name": "stdout",
     "output_type": "stream",
     "text": [
      "[[ 1.08145502 -0.04120035 -0.71330422 -0.06322746  0.09638091]\n",
      " [ 0.95999594  0.13988062  0.75937323 -0.11091415 -0.22802149]\n",
      " [ 0.27258353 -0.88074028 -0.25645753 -0.2716021   1.25754768]\n",
      " [ 1.46513452  0.65626977  0.8136515   0.52271727 -1.94648603]\n",
      " [ 0.65676813  0.84661832 -2.00775197  0.67435606 -2.0392843 ]\n",
      " [ 0.11575395  0.22180195 -1.28127297 -0.58461632 -0.24586906]\n",
      " [-0.78358108  1.26128394 -0.3004069  -0.33186061  0.92727138]\n",
      " [ 0.7260532   1.63603493 -1.1423577   1.19800481 -0.78869097]\n",
      " [ 0.0024496   0.65863138 -0.39142134  0.03510833  1.53086553]\n",
      " [-1.69139479  0.79557397 -0.85382956 -0.76593603  0.30710823]]\n",
      "\n",
      "<numpy.lib.npyio.NpzFile object at 0x000002BA7150D548>\n"
     ]
    }
   ],
   "source": [
    "# now let's load it\n",
    "loaded_vec = np.load('saved_file_name.npy')\n",
    "loaded_zip = np.load('zipped_file_name.npz')\n",
    "\n",
    "print(loaded_vec)\n",
    "print('')\n",
    "print(loaded_zip)"
   ]
  },
  {
   "cell_type": "code",
   "execution_count": 35,
   "metadata": {},
   "outputs": [
    {
     "name": "stdout",
     "output_type": "stream",
     "text": [
      "[[3.         3.         3.         0.78655819 0.97592813]\n",
      " [3.         3.         3.         0.         0.        ]\n",
      " [0.74259482 0.05788989 0.92457358 0.         0.        ]\n",
      " [0.28734983 0.6855835  0.33042035 0.73087088 0.97441362]\n",
      " [0.02802572 0.99080746 0.81764804 0.54283052 0.69918734]]\n",
      "\n",
      "[[ 1.08145502 -0.04120035 -0.71330422 -0.06322746  0.09638091]\n",
      " [ 0.95999594  0.13988062  0.75937323 -0.11091415 -0.22802149]\n",
      " [ 0.27258353 -0.88074028 -0.25645753 -0.2716021   1.25754768]\n",
      " [ 1.46513452  0.65626977  0.8136515   0.52271727 -1.94648603]\n",
      " [ 0.65676813  0.84661832 -2.00775197  0.67435606 -2.0392843 ]\n",
      " [ 0.11575395  0.22180195 -1.28127297 -0.58461632 -0.24586906]\n",
      " [-0.78358108  1.26128394 -0.3004069  -0.33186061  0.92727138]\n",
      " [ 0.7260532   1.63603493 -1.1423577   1.19800481 -0.78869097]\n",
      " [ 0.0024496   0.65863138 -0.39142134  0.03510833  1.53086553]\n",
      " [-1.69139479  0.79557397 -0.85382956 -0.76593603  0.30710823]]\n",
      "[[3.         3.         3.         0.78655819 0.97592813]\n",
      " [3.         3.         3.         0.         0.        ]\n",
      " [0.74259482 0.05788989 0.92457358 0.         0.        ]\n",
      " [0.28734983 0.6855835  0.33042035 0.73087088 0.97441362]\n",
      " [0.02802572 0.99080746 0.81764804 0.54283052 0.69918734]]\n"
     ]
    }
   ],
   "source": [
    "#we can access the matrix in zip file\n",
    "print(loaded_zip['rand_mat'])\n",
    "print('')\n",
    "print(loaded_zip['rand_mat2'])\n",
    "\n",
    "new_array  = loaded_zip['rand_mat']\n",
    "print(new_array)"
   ]
  },
  {
   "cell_type": "code",
   "execution_count": 36,
   "metadata": {},
   "outputs": [
    {
     "name": "stdout",
     "output_type": "stream",
     "text": [
      "[[3.         3.         3.         0.78655819 0.97592813]\n",
      " [3.         3.         3.         0.         0.        ]\n",
      " [0.74259482 0.05788989 0.92457358 0.         0.        ]\n",
      " [0.28734983 0.6855835  0.33042035 0.73087088 0.97441362]\n",
      " [0.02802572 0.99080746 0.81764804 0.54283052 0.69918734]]\n",
      "\n",
      "[[3.         3.         3.         0.78655819 0.97592813]\n",
      " [3.         3.         3.         0.         0.        ]\n",
      " [0.74259482 0.05788989 0.92457358 0.         0.        ]\n",
      " [0.28734983 0.6855835  0.33042035 0.73087088 0.97441362]\n",
      " [0.02802572 0.99080746 0.81764804 0.54283052 0.69918734]]\n"
     ]
    }
   ],
   "source": [
    "# we can also save/load as text files...but only single variables\n",
    "np.savetxt('text_file_name.txt',rand_mat,delimiter=',')\n",
    "rand_mat_txt = np.loadtxt('text_file_name.txt',delimiter=',')\n",
    "print(rand_mat)\n",
    "print('')\n",
    "print(rand_mat_txt)"
   ]
  }
 ],
 "metadata": {
  "kernelspec": {
   "display_name": "Python 3",
   "language": "python",
   "name": "python3"
  },
  "language_info": {
   "codemirror_mode": {
    "name": "ipython",
    "version": 3
   },
   "file_extension": ".py",
   "mimetype": "text/x-python",
   "name": "python",
   "nbconvert_exporter": "python",
   "pygments_lexer": "ipython3",
   "version": "3.7.6"
  }
 },
 "nbformat": 4,
 "nbformat_minor": 2
}
