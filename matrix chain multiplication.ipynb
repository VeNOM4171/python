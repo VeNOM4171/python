{
 "cells": [
  {
   "cell_type": "markdown",
   "metadata": {},
   "source": [
    "# Matrix Chain Multiplication using Memoization (Dynamic Programming)\n"
   ]
  },
  {
   "cell_type": "markdown",
   "metadata": {},
   "source": [
    "first we will take input from user (how many matrices do he want to multiple in chain?) "
   ]
  },
  {
   "cell_type": "code",
   "execution_count": 5,
   "metadata": {},
   "outputs": [
    {
     "name": "stdout",
     "output_type": "stream",
     "text": [
      "Enter number of matrices: 4\n",
      "4\n"
     ]
    }
   ],
   "source": [
    "n = int(input('Enter number of matrices: '))\n",
    "print(n)"
   ]
  },
  {
   "cell_type": "markdown",
   "metadata": {},
   "source": [
    "now we need to store the rows & col of each matrix.\n",
    "but we know that if we have row of 2nd matrix then it would be the col for 1st matrix\n",
    "###### eg. a1(mxn), a2(nxi), a3(ixj), a4(jxk), ........\n",
    "only col of last matix will be unknown will ask that also."
   ]
  },
  {
   "cell_type": "code",
   "execution_count": 6,
   "metadata": {},
   "outputs": [
    {
     "name": "stdout",
     "output_type": "stream",
     "text": [
      "Enter number of rows in matrix 1: 3\n",
      "Enter number of rows in matrix 2: 2\n",
      "Enter number of rows in matrix 3: 4\n",
      "Enter number of rows in matrix 4: 2\n",
      "Enter number of columns in matrix 4: 5\n",
      "[3, 2, 4, 2, 5]\n"
     ]
    }
   ],
   "source": [
    "p = []\n",
    "for i in range(n):\n",
    "    temp = int(input('Enter number of rows in matrix {}: '.format(i + 1)))\n",
    "    p.append(temp)\n",
    "temp = int(input('Enter number of columns in matrix {}: '.format(n)))\n",
    "p.append(temp)\n",
    "print(p)"
   ]
  },
  {
   "cell_type": "markdown",
   "metadata": {},
   "source": [
    "The ftn matrix_product return m and s\n",
    "\n",
    "m[i][j] is the minimum number of scalar multiplications needed to compute the product of matrices A(i), A(i + 1), ..., A(j).<br>\n",
    "s[i][j] is the index of the matrix after which the product is split in an  optimal parenthesization of the matrix product.<br>\n",
    "p[0... n] is a list such that matrix A(i) has dimensions p[i - 1] x p[i].<br>\n",
    "m[i][j] is the minimum number of multiplications needed to compute the product of matrices A(i), A(i+1), ..., A(j)<br>\n",
    "s[i][j] is the matrix after which the product is split in the minimum number of multiplications needed<br>\n",
    "\n",
    "The ftn matrix_product_helper return minimum number of scalar multiplications needed to compute the product of matrices A(start), A(start + 1), ..., A(end).<br>\n",
    " \n",
    "The minimum number of scalar multiplications needed to compute the product of matrices A(i), A(i + 1), ..., A(j) is stored in m[i][j].<br>\n",
    "The index of the matrix after which the above product is split in an optimal parenthesization is stored in s[i][j].<br>\n",
    "p[0... n] is a list such that matrix A(i) has dimensions p[i - 1] x p[i].<br>\n",
    "    \n",
    "    "
   ]
  },
  {
   "cell_type": "code",
   "execution_count": 8,
   "metadata": {},
   "outputs": [],
   "source": [
    "def matrix_product_helper(p, start, end, m, s):\n",
    "    \n",
    "    if m[start][end] >= 0:\n",
    "        return m[start][end]\n",
    " \n",
    "    if start == end:\n",
    "        q = 0\n",
    "    else:\n",
    "        q = float('inf')\n",
    "        for k in range(start, end):\n",
    "            temp = matrix_product_helper(p, start, k, m, s) \\\n",
    "                   + matrix_product_helper(p, k + 1, end, m, s) \\\n",
    "                   + p[start - 1]*p[k]*p[end]\n",
    "            if q > temp:\n",
    "                q = temp\n",
    "                s[start][end] = k\n",
    " \n",
    "    m[start][end] = q\n",
    "    return q"
   ]
  },
  {
   "cell_type": "code",
   "execution_count": 7,
   "metadata": {},
   "outputs": [],
   "source": [
    "def matrix_product(p):\n",
    "    length = len(p) # len(p) = number of matrices + 1\n",
    "     \n",
    "    m = [[-1]*length for _ in range(length)]\n",
    "    s = [[-1]*length for _ in range(length)]\n",
    " \n",
    "    matrix_product_helper(p, 1, length - 1, m, s)\n",
    " \n",
    "    return m, s"
   ]
  },
  {
   "cell_type": "code",
   "execution_count": 9,
   "metadata": {},
   "outputs": [],
   "source": [
    "m, s = matrix_product(p)"
   ]
  },
  {
   "cell_type": "code",
   "execution_count": 15,
   "metadata": {},
   "outputs": [
    {
     "name": "stdout",
     "output_type": "stream",
     "text": [
      "The number of minimum scalar multiplications needed: 58\n"
     ]
    }
   ],
   "source": [
    "print('The number of minimum scalar multiplications needed:', m[1][n])\n"
   ]
  },
  {
   "cell_type": "markdown",
   "metadata": {},
   "source": [
    "Print the optimal parenthesization of the matrix product A(start) x A(start + 1) x ... x A(end).<br>\n",
    "s[i][j] is the index of the matrix after which the product is split in an optimal parenthesization of the matrix product."
   ]
  },
  {
   "cell_type": "code",
   "execution_count": 13,
   "metadata": {},
   "outputs": [],
   "source": [
    "def print_parenthesization(s, start, end):\n",
    "    \n",
    "    if start == end:\n",
    "        print('A[{}]'.format(start), end='')\n",
    "        return\n",
    " \n",
    "    k = s[start][end]\n",
    " \n",
    "    print('(', end='')\n",
    "    print_parenthesization(s, start, k)\n",
    "    print_parenthesization(s, k + 1, end)\n",
    "    print(')', end='')"
   ]
  },
  {
   "cell_type": "code",
   "execution_count": 14,
   "metadata": {},
   "outputs": [
    {
     "name": "stdout",
     "output_type": "stream",
     "text": [
      "Optimal parenthesization: ((A[1](A[2]A[3]))A[4])"
     ]
    }
   ],
   "source": [
    "print('Optimal parenthesization: ', end='')\n",
    "print_parenthesization(s, 1, n)"
   ]
  },
  {
   "cell_type": "markdown",
   "metadata": {},
   "source": [
    "Conclusion : For taken example if we multiply matrix in ((A[1](A[2]A[3]))A[4]) - this fashion then we will encounter less amount of multiplication operation to be performed, for example the minimum scalar multiplication needed is 58."
   ]
  }
 ],
 "metadata": {
  "kernelspec": {
   "display_name": "Python 3",
   "language": "python",
   "name": "python3"
  },
  "language_info": {
   "codemirror_mode": {
    "name": "ipython",
    "version": 3
   },
   "file_extension": ".py",
   "mimetype": "text/x-python",
   "name": "python",
   "nbconvert_exporter": "python",
   "pygments_lexer": "ipython3",
   "version": "3.7.6"
  }
 },
 "nbformat": 4,
 "nbformat_minor": 4
}
